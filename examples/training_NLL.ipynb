{
    "cells": [
        {
            "cell_type": "markdown",
            "metadata": {},
            "source": [
                "# Training with Negative Log Loss as Loss function. \n",
                "Implementation of the loss function described in [Lim et al. (2022) JCIM]('https://pubs.acs.org/doi/10.1021/acs.jcim.2c00041') for use on Poisson distributed (or negative binomial distributed) count data e.g. DNA-encoded library screening data.\n",
                "\n",
                "\n",
                "Notable differences in how this type of model is setup: \n",
                "- this loss function require two target columns, \"postive\" and \"negative\". Both must be count (int) values\n",
                "- do not use scaling, as the loss function takes the raw counts\n",
                "- do not use output transforms\n",
                "- use the softplus-based RegressionSoftplusFNN predictor to ensure positive preds\n",
                " "
            ]
        },
        {
            "cell_type": "markdown",
            "metadata": {},
            "source": [
                "[![Open In Colab](https://colab.research.google.com/assets/colab-badge.svg)](https://colab.research.google.com/github/chemprop/chemprop/blob/main/examples/training.ipynb)"
            ]
        },
        {
            "cell_type": "code",
            "execution_count": 7,
            "metadata": {},
            "outputs": [],
            "source": [
                "# Install chemprop from GitHub if running in Google Colab\n",
                "import os\n",
                "\n",
                "if os.getenv(\"COLAB_RELEASE_TAG\"):\n",
                "    try:\n",
                "        import chemprop\n",
                "    except ImportError:\n",
                "        !git clone https://github.com/chemprop/chemprop.git\n",
                "        %cd chemprop\n",
                "        !pip install .\n",
                "        %cd examples"
            ]
        },
        {
            "cell_type": "markdown",
            "metadata": {},
            "source": [
                "# Import packages"
            ]
        },
        {
            "cell_type": "code",
            "execution_count": 8,
            "metadata": {},
            "outputs": [],
            "source": [
                "from pathlib import Path\n",
                "\n",
                "import torch \n",
                "from lightning import pytorch as pl\n",
                "from lightning.pytorch.callbacks import ModelCheckpoint\n",
                "import pandas as pd\n",
                "import numpy as np\n",
                "\n",
                "from chemprop import data, featurizers, models, nn"
            ]
        },
        {
            "cell_type": "markdown",
            "metadata": {},
            "source": [
                "# Change data inputs here"
            ]
        },
        {
            "cell_type": "code",
            "execution_count": 9,
            "metadata": {},
            "outputs": [],
            "source": [
                "chemprop_dir = Path.cwd().parent\n",
                "input_path = chemprop_dir / \"tests\" / \"data\" / \"regression\" / \"mol\" / \"mol.csv\" # path to your data .csv file\n",
                "num_workers = 0 # number of workers for dataloader. 0 means using main process for data loading\n",
                "smiles_column = 'smiles' # name of the column containing SMILES strings\n",
                "target_columns = ['counts_pos', 'counts_neg']# list of names of the columns containing targets"
            ]
        },
        {
            "cell_type": "markdown",
            "metadata": {},
            "source": [
                "## load data -- and make some synthetic data for testing."
            ]
        },
        {
            "cell_type": "code",
            "execution_count": 10,
            "metadata": {},
            "outputs": [
                {
                    "name": "stdout",
                    "output_type": "stream",
                    "text": [
                        "Total counts (positive samples): 643\n",
                        "Total counts (negative samples): 367\n"
                    ]
                },
                {
                    "data": {
                        "application/vnd.microsoft.datawrangler.viewer.v0+json": {
                            "columns": [
                                {
                                    "name": "index",
                                    "rawType": "int64",
                                    "type": "integer"
                                },
                                {
                                    "name": "smiles",
                                    "rawType": "object",
                                    "type": "string"
                                },
                                {
                                    "name": "lipo",
                                    "rawType": "float64",
                                    "type": "float"
                                },
                                {
                                    "name": "counts_pos",
                                    "rawType": "int64",
                                    "type": "integer"
                                },
                                {
                                    "name": "counts_neg",
                                    "rawType": "int64",
                                    "type": "integer"
                                }
                            ],
                            "ref": "eb992b51-589e-4a48-9737-3ca7365d9b25",
                            "rows": [
                                [
                                    "0",
                                    "Cn1c(CN2CCN(CC2)c3ccc(Cl)cc3)nc4ccccc14",
                                    "3.54",
                                    "8",
                                    "4"
                                ],
                                [
                                    "1",
                                    "COc1cc(OC)c(cc1NC(=O)CSCC(=O)O)S(=O)(=O)N2C(C)CCc3ccccc23",
                                    "-1.18",
                                    "6",
                                    "4"
                                ],
                                [
                                    "2",
                                    "COC(=O)[C@@H](N1CCc2sccc2C1)c3ccccc3Cl",
                                    "3.69",
                                    "7",
                                    "3"
                                ],
                                [
                                    "3",
                                    "OC[C@H](O)CN1C(=O)C(Cc2ccccc12)NC(=O)c3cc4cc(Cl)sc4[nH]3",
                                    "3.37",
                                    "5",
                                    "2"
                                ],
                                [
                                    "4",
                                    "Cc1cccc(C[C@H](NC(=O)c2cc(nn2C)C(C)(C)C)C(=O)NCC#N)c1",
                                    "3.1",
                                    "6",
                                    "3"
                                ],
                                [
                                    "5",
                                    "OC1(CN2CCC1CC2)C#Cc3ccc(cc3)c4ccccc4",
                                    "3.14",
                                    "5",
                                    "3"
                                ],
                                [
                                    "6",
                                    "COc1cc(OC)c(cc1NC(=O)CCC(=O)O)S(=O)(=O)NCc2ccccc2N3CCCCC3",
                                    "-0.72",
                                    "5",
                                    "4"
                                ],
                                [
                                    "7",
                                    "CNc1cccc(CCOc2ccc(C[C@H](NC(=O)c3c(Cl)cccc3Cl)C(=O)O)cc2C)n1",
                                    "0.34",
                                    "8",
                                    "4"
                                ],
                                [
                                    "8",
                                    "COc1ccc(cc1)C2=COc3cc(OC)cc(OC)c3C2=O",
                                    "3.05",
                                    "5",
                                    "7"
                                ],
                                [
                                    "9",
                                    "Oc1ncnc2scc(c3ccsc3)c12",
                                    "2.25",
                                    "8",
                                    "6"
                                ],
                                [
                                    "10",
                                    "CS(=O)(=O)c1ccc(Oc2ccc(cc2)C#C[C@]3(O)CN4CCC3CC4)cc1",
                                    "1.51",
                                    "4",
                                    "7"
                                ],
                                [
                                    "11",
                                    "C[C@H](Nc1nc(Nc2cc(C)[nH]n2)c(C)nc1C#N)c3ccc(F)cn3",
                                    "2.61",
                                    "6",
                                    "5"
                                ],
                                [
                                    "12",
                                    "O=C1CCCCCN1",
                                    "-0.08",
                                    "6",
                                    "8"
                                ],
                                [
                                    "13",
                                    "CCCSc1ncccc1C(=O)N2CCCC2c3ccncc3",
                                    "1.95",
                                    "5",
                                    "3"
                                ],
                                [
                                    "14",
                                    "CC1CCCCC1NC(=O)c2cnn(c2NS(=O)(=O)c3ccc(C)cc3)c4ccccc4",
                                    "1.34",
                                    "1",
                                    "4"
                                ],
                                [
                                    "15",
                                    "Nc1ccc(cc1)c2nc3ccc(O)cc3s2",
                                    "3.2",
                                    "4",
                                    "2"
                                ],
                                [
                                    "16",
                                    "COc1ccc(cc1)N2CCN(CC2)C(=O)[C@@H]3CCCC[C@H]3C(=O)NCC#N",
                                    "1.6",
                                    "7",
                                    "6"
                                ],
                                [
                                    "17",
                                    "CCC(COC(=O)c1cc(OC)c(OC)c(OC)c1)(N(C)C)c2ccccc2",
                                    "3.77",
                                    "10",
                                    "4"
                                ],
                                [
                                    "18",
                                    "COc1cc(ccc1N2CC[C@@H](O)C2)N3N=Nc4cc(sc4C3=O)c5ccc(Cl)cc5",
                                    "3.15",
                                    "4",
                                    "2"
                                ],
                                [
                                    "19",
                                    "CO[C@H]1CN(CCN2C(=O)C=Cc3ccc(cc23)C#N)CC[C@H]1NCc4ccc5OCC(=O)Nc5n4",
                                    "0.32",
                                    "7",
                                    "3"
                                ],
                                [
                                    "20",
                                    "CC(C)(CCCCCOCCc1ccccc1)NCCc2ccc(O)c3nc(O)sc23",
                                    "2.92",
                                    "8",
                                    "2"
                                ],
                                [
                                    "21",
                                    "Clc1ccc(cc1)C(=O)Nc2oc(nn2)C(=O)Nc3ccc(cc3)N4CCOCC4",
                                    "1.92",
                                    "14",
                                    "9"
                                ],
                                [
                                    "22",
                                    "COc1ccc(Oc2cccc(CN3CCCC(C3)N4C=C(C)C(=O)NC4=O)c2)cc1",
                                    "3.17",
                                    "6",
                                    "4"
                                ],
                                [
                                    "23",
                                    "OC(=O)c1cccc(c1)N2CCC(CN3CCC(CC3)Oc4ccc(Cl)c(Cl)c4)CC2",
                                    "2.17",
                                    "9",
                                    "4"
                                ],
                                [
                                    "24",
                                    "CNCC[C@@H](Oc1ccccc1C)c2ccccc2",
                                    "1.2",
                                    "10",
                                    "2"
                                ],
                                [
                                    "25",
                                    "Clc1ccc(N2CCN(CC2)C(=O)CCCc3ccncc3)c(Cl)c1",
                                    "3.93",
                                    "3",
                                    "2"
                                ],
                                [
                                    "26",
                                    "COc1cnc(nc1N(C)C)c2ccccn2",
                                    "1.9",
                                    "5",
                                    "2"
                                ],
                                [
                                    "27",
                                    "C(CCCCNc1cc(nc2ccccc12)c3ccccc3)CCCNc4cc(nc5ccccc45)c6ccccc6",
                                    "2.27",
                                    "7",
                                    "3"
                                ],
                                [
                                    "28",
                                    "CSc1c(cnn1c2ccc(cc2)C(=O)O)C(=O)NC3C4CC5CC(CC3C5)C4",
                                    "1.2",
                                    "8",
                                    "5"
                                ],
                                [
                                    "29",
                                    "CNC1=Nc2ncccc2C(=NC1c3cccs3)c4occn4",
                                    "1.14",
                                    "6",
                                    "2"
                                ],
                                [
                                    "30",
                                    "CS(=O)(=O)C1(CC1)c2cc(nc(n2)c3cccc4[nH]ccc34)N5CC6CCC(C5)O6",
                                    "2.6",
                                    "6",
                                    "4"
                                ],
                                [
                                    "31",
                                    "CN([C@@H]1CCN(Cc2ccc(cc2)C(F)(F)F)C[C@@H]1F)C(=O)Cc3ccc(cc3)n4cnnn4",
                                    "3.3",
                                    "10",
                                    "2"
                                ],
                                [
                                    "32",
                                    "CC(=O)[C@H]1CC[C@H]2[C@@H]3CCC4=CC(=O)CC[C@]4(C)[C@H]3CC[C@]12C",
                                    "3.94",
                                    "4",
                                    "2"
                                ],
                                [
                                    "33",
                                    "CS(=O)(=O)c1ccccc1C(=O)NC[C@@H](O)CN2CCC(CC2)Oc3ccc(Cl)c(Cl)c3",
                                    "2.34",
                                    "2",
                                    "2"
                                ],
                                [
                                    "34",
                                    "O=C(NCc1ccncc1)c2ccc(Oc3ccccc3C#N)cc2",
                                    "2.57",
                                    "4",
                                    "3"
                                ],
                                [
                                    "35",
                                    "CN(C)c1ccnc2sc(C(=O)NCc3ccccc3)c(N)c12",
                                    "3.62",
                                    "6",
                                    "1"
                                ],
                                [
                                    "36",
                                    "CN1CCN(CC1)c2ccc3N=CN(C(=O)c3c2)c4cc(NC(=O)c5cscn5)ccc4C",
                                    "2.06",
                                    "7",
                                    "2"
                                ],
                                [
                                    "37",
                                    "Cn1cncc1c2c3C(=O)N(CC4CC4)C(=O)N(CC5CC5)c3nn2Cc6ccnc7ccc(Cl)cc67",
                                    "4.33",
                                    "7",
                                    "7"
                                ],
                                [
                                    "38",
                                    "COc1ccc2ncc(C#N)c(CCN3CCC(CC3)NCc4cc5SCOc5cn4)c2c1",
                                    "2.55",
                                    "4",
                                    "4"
                                ],
                                [
                                    "39",
                                    "CNC(=O)C1(CCN(CC[C@H](CN(C)C(=O)c2c(OC)c(cc3ccccc23)C#N)c4ccc(Cl)c(Cl)c4)CC1)N5CCCCC5=O",
                                    "2.78",
                                    "7",
                                    "5"
                                ],
                                [
                                    "40",
                                    "OB1N(C(=O)Nc2ccccc12)c3ccccc3",
                                    "1.4",
                                    "10",
                                    "5"
                                ],
                                [
                                    "41",
                                    "CC(C)N(CCC(C(=O)N)(c1ccccc1)c2ccccn2)C(C)C",
                                    "-0.54",
                                    "10",
                                    "1"
                                ],
                                [
                                    "42",
                                    "NC(=NC#N)c1sc(Nc2ccccc2)nc1N",
                                    "2.91",
                                    "8",
                                    "2"
                                ],
                                [
                                    "43",
                                    "CCS(=O)(=O)c1ccc(c(C)c1)c2cc(ccc2O[C@H](C)C(=O)O)C(F)(F)F",
                                    "-0.4",
                                    "10",
                                    "2"
                                ],
                                [
                                    "44",
                                    "OC(=O)COc1ccc(cc1c2cc(ccc2F)C#N)C(F)(F)F",
                                    "-0.16",
                                    "5",
                                    "3"
                                ],
                                [
                                    "45",
                                    "COc1ccc(cn1)C2=Cc3c(C)nc(N)nc3N([C@@H]4CC[C@H](CC4)OCCO)C2=O",
                                    "2.2",
                                    "4",
                                    "9"
                                ],
                                [
                                    "46",
                                    "CC(Nc1ncnc2ccccc12)c3ccccc3",
                                    "3.4",
                                    "5",
                                    "3"
                                ],
                                [
                                    "47",
                                    "CC(C)c1ccc2Oc3nc(N)c(cc3C(=O)c2c1)C(=O)O",
                                    "1.1",
                                    "5",
                                    "5"
                                ],
                                [
                                    "48",
                                    "O[C@@H](CNCCCOCCOCCc1cccc2ccccc12)c3ccc(O)c4NC(=O)Sc34",
                                    "2.28",
                                    "3",
                                    "2"
                                ],
                                [
                                    "49",
                                    "COc1ccccc1Cn2c(C)nc3ccccc23",
                                    "3.47",
                                    "10",
                                    "3"
                                ]
                            ],
                            "shape": {
                                "columns": 4,
                                "rows": 100
                            }
                        },
                        "text/html": [
                            "<div>\n",
                            "<style scoped>\n",
                            "    .dataframe tbody tr th:only-of-type {\n",
                            "        vertical-align: middle;\n",
                            "    }\n",
                            "\n",
                            "    .dataframe tbody tr th {\n",
                            "        vertical-align: top;\n",
                            "    }\n",
                            "\n",
                            "    .dataframe thead th {\n",
                            "        text-align: right;\n",
                            "    }\n",
                            "</style>\n",
                            "<table border=\"1\" class=\"dataframe\">\n",
                            "  <thead>\n",
                            "    <tr style=\"text-align: right;\">\n",
                            "      <th></th>\n",
                            "      <th>smiles</th>\n",
                            "      <th>lipo</th>\n",
                            "      <th>counts_pos</th>\n",
                            "      <th>counts_neg</th>\n",
                            "    </tr>\n",
                            "  </thead>\n",
                            "  <tbody>\n",
                            "    <tr>\n",
                            "      <th>0</th>\n",
                            "      <td>Cn1c(CN2CCN(CC2)c3ccc(Cl)cc3)nc4ccccc14</td>\n",
                            "      <td>3.54</td>\n",
                            "      <td>8</td>\n",
                            "      <td>4</td>\n",
                            "    </tr>\n",
                            "    <tr>\n",
                            "      <th>1</th>\n",
                            "      <td>COc1cc(OC)c(cc1NC(=O)CSCC(=O)O)S(=O)(=O)N2C(C)...</td>\n",
                            "      <td>-1.18</td>\n",
                            "      <td>6</td>\n",
                            "      <td>4</td>\n",
                            "    </tr>\n",
                            "    <tr>\n",
                            "      <th>2</th>\n",
                            "      <td>COC(=O)[C@@H](N1CCc2sccc2C1)c3ccccc3Cl</td>\n",
                            "      <td>3.69</td>\n",
                            "      <td>7</td>\n",
                            "      <td>3</td>\n",
                            "    </tr>\n",
                            "    <tr>\n",
                            "      <th>3</th>\n",
                            "      <td>OC[C@H](O)CN1C(=O)C(Cc2ccccc12)NC(=O)c3cc4cc(C...</td>\n",
                            "      <td>3.37</td>\n",
                            "      <td>5</td>\n",
                            "      <td>2</td>\n",
                            "    </tr>\n",
                            "    <tr>\n",
                            "      <th>4</th>\n",
                            "      <td>Cc1cccc(C[C@H](NC(=O)c2cc(nn2C)C(C)(C)C)C(=O)N...</td>\n",
                            "      <td>3.10</td>\n",
                            "      <td>6</td>\n",
                            "      <td>3</td>\n",
                            "    </tr>\n",
                            "    <tr>\n",
                            "      <th>...</th>\n",
                            "      <td>...</td>\n",
                            "      <td>...</td>\n",
                            "      <td>...</td>\n",
                            "      <td>...</td>\n",
                            "    </tr>\n",
                            "    <tr>\n",
                            "      <th>95</th>\n",
                            "      <td>CC(C)N(CCCNC(=O)Nc1ccc(cc1)C(C)(C)C)C[C@H]2O[C...</td>\n",
                            "      <td>2.20</td>\n",
                            "      <td>9</td>\n",
                            "      <td>4</td>\n",
                            "    </tr>\n",
                            "    <tr>\n",
                            "      <th>96</th>\n",
                            "      <td>CCN(CC)CCCCNc1ncc2CN(C(=O)N(Cc3cccc(NC(=O)C=C)...</td>\n",
                            "      <td>2.04</td>\n",
                            "      <td>8</td>\n",
                            "      <td>6</td>\n",
                            "    </tr>\n",
                            "    <tr>\n",
                            "      <th>97</th>\n",
                            "      <td>CCSc1c(Cc2ccccc2C(F)(F)F)sc3N(CC(C)C)C(=O)N(C)...</td>\n",
                            "      <td>4.49</td>\n",
                            "      <td>12</td>\n",
                            "      <td>2</td>\n",
                            "    </tr>\n",
                            "    <tr>\n",
                            "      <th>98</th>\n",
                            "      <td>COc1ccc(Cc2c(N)n[nH]c2N)cc1</td>\n",
                            "      <td>0.20</td>\n",
                            "      <td>7</td>\n",
                            "      <td>3</td>\n",
                            "    </tr>\n",
                            "    <tr>\n",
                            "      <th>99</th>\n",
                            "      <td>CCN(CCN(C)C)S(=O)(=O)c1ccc(cc1)c2cnc(N)c(n2)C(...</td>\n",
                            "      <td>2.00</td>\n",
                            "      <td>9</td>\n",
                            "      <td>2</td>\n",
                            "    </tr>\n",
                            "  </tbody>\n",
                            "</table>\n",
                            "<p>100 rows × 4 columns</p>\n",
                            "</div>"
                        ],
                        "text/plain": [
                            "                                               smiles  lipo  counts_pos  \\\n",
                            "0             Cn1c(CN2CCN(CC2)c3ccc(Cl)cc3)nc4ccccc14  3.54           8   \n",
                            "1   COc1cc(OC)c(cc1NC(=O)CSCC(=O)O)S(=O)(=O)N2C(C)... -1.18           6   \n",
                            "2              COC(=O)[C@@H](N1CCc2sccc2C1)c3ccccc3Cl  3.69           7   \n",
                            "3   OC[C@H](O)CN1C(=O)C(Cc2ccccc12)NC(=O)c3cc4cc(C...  3.37           5   \n",
                            "4   Cc1cccc(C[C@H](NC(=O)c2cc(nn2C)C(C)(C)C)C(=O)N...  3.10           6   \n",
                            "..                                                ...   ...         ...   \n",
                            "95  CC(C)N(CCCNC(=O)Nc1ccc(cc1)C(C)(C)C)C[C@H]2O[C...  2.20           9   \n",
                            "96  CCN(CC)CCCCNc1ncc2CN(C(=O)N(Cc3cccc(NC(=O)C=C)...  2.04           8   \n",
                            "97  CCSc1c(Cc2ccccc2C(F)(F)F)sc3N(CC(C)C)C(=O)N(C)...  4.49          12   \n",
                            "98                        COc1ccc(Cc2c(N)n[nH]c2N)cc1  0.20           7   \n",
                            "99  CCN(CCN(C)C)S(=O)(=O)c1ccc(cc1)c2cnc(N)c(n2)C(...  2.00           9   \n",
                            "\n",
                            "    counts_neg  \n",
                            "0            4  \n",
                            "1            4  \n",
                            "2            3  \n",
                            "3            2  \n",
                            "4            3  \n",
                            "..         ...  \n",
                            "95           4  \n",
                            "96           6  \n",
                            "97           2  \n",
                            "98           3  \n",
                            "99           2  \n",
                            "\n",
                            "[100 rows x 4 columns]"
                        ]
                    },
                    "execution_count": 10,
                    "metadata": {},
                    "output_type": "execute_result"
                }
            ],
            "source": [
                "df_input = pd.read_csv(input_path)\n",
                "\n",
                "\n",
                "# creating some random count data for the NLogProbEnrichment metric\n",
                "df_input['counts_pos'] = np.random.poisson(lam=6, size= df_input.shape[0])\n",
                "df_input['counts_neg'] = np.random.poisson(lam=4, size= df_input.shape[0])\n",
                "\n",
                "total_counts_pos= int(df_input['counts_pos'].sum())  # total number of positive samples\n",
                "total_counts_neg = int(df_input['counts_neg'].sum())  # total number of negative samples\n",
                "\n",
                "print(f\"Total counts (positive samples): {total_counts_pos}\")\n",
                "print(f\"Total counts (negative samples): {total_counts_neg}\")\n",
                "\n",
                "df_input"
            ]
        },
        {
            "cell_type": "markdown",
            "metadata": {},
            "source": [
                "## Get SMILES and targets"
            ]
        },
        {
            "cell_type": "code",
            "execution_count": 11,
            "metadata": {},
            "outputs": [],
            "source": [
                "\n",
                "smis = df_input.loc[:, smiles_column].values\n",
                "ys = df_input.loc[:, target_columns].values"
            ]
        },
        {
            "cell_type": "code",
            "execution_count": 12,
            "metadata": {},
            "outputs": [
                {
                    "data": {
                        "text/plain": [
                            "array(['Cn1c(CN2CCN(CC2)c3ccc(Cl)cc3)nc4ccccc14',\n",
                            "       'COc1cc(OC)c(cc1NC(=O)CSCC(=O)O)S(=O)(=O)N2C(C)CCc3ccccc23',\n",
                            "       'COC(=O)[C@@H](N1CCc2sccc2C1)c3ccccc3Cl',\n",
                            "       'OC[C@H](O)CN1C(=O)C(Cc2ccccc12)NC(=O)c3cc4cc(Cl)sc4[nH]3',\n",
                            "       'Cc1cccc(C[C@H](NC(=O)c2cc(nn2C)C(C)(C)C)C(=O)NCC#N)c1'],\n",
                            "      dtype=object)"
                        ]
                    },
                    "execution_count": 12,
                    "metadata": {},
                    "output_type": "execute_result"
                }
            ],
            "source": [
                "smis[:5] # show first 5 SMILES strings"
            ]
        },
        {
            "cell_type": "code",
            "execution_count": 13,
            "metadata": {},
            "outputs": [
                {
                    "data": {
                        "text/plain": [
                            "array([[8, 4],\n",
                            "       [6, 4],\n",
                            "       [7, 3],\n",
                            "       [5, 2],\n",
                            "       [6, 3]])"
                        ]
                    },
                    "execution_count": 13,
                    "metadata": {},
                    "output_type": "execute_result"
                }
            ],
            "source": [
                "ys[:5] # show first 5 targets"
            ]
        },
        {
            "cell_type": "markdown",
            "metadata": {},
            "source": [
                "## Get molecule datapoints"
            ]
        },
        {
            "cell_type": "code",
            "execution_count": 14,
            "metadata": {},
            "outputs": [],
            "source": [
                "all_data = [data.MoleculeDatapoint.from_smi(smi, y) for smi, y in zip(smis, ys)]"
            ]
        },
        {
            "cell_type": "markdown",
            "metadata": {},
            "source": [
                "## Perform data splitting for training, validation, and testing"
            ]
        },
        {
            "cell_type": "code",
            "execution_count": 15,
            "metadata": {},
            "outputs": [
                {
                    "data": {
                        "text/plain": [
                            "['SCAFFOLD_BALANCED',\n",
                            " 'RANDOM_WITH_REPEATED_SMILES',\n",
                            " 'RANDOM',\n",
                            " 'KENNARD_STONE',\n",
                            " 'KMEANS']"
                        ]
                    },
                    "execution_count": 15,
                    "metadata": {},
                    "output_type": "execute_result"
                }
            ],
            "source": [
                "# available split types\n",
                "list(data.SplitType.keys())"
            ]
        },
        {
            "cell_type": "markdown",
            "metadata": {},
            "source": [
                "Chemprop's `make_split_indices` function will always return a two- (if no validation) or three-length tuple.\n",
                "Each member is a list of length `num_replicates`.\n",
                "The inner lists then contain the actual indices for splitting.\n",
                "\n",
                "The type signature for this return type is `tuple[list[list[int]], ...]`."
            ]
        },
        {
            "cell_type": "code",
            "execution_count": 16,
            "metadata": {},
            "outputs": [
                {
                    "name": "stderr",
                    "output_type": "stream",
                    "text": [
                        "The return type of make_split_indices has changed in v2.1 - see help(make_split_indices)\n"
                    ]
                }
            ],
            "source": [
                "mols = [d.mol for d in all_data]  # RDkit Mol objects are use for structure based splits\n",
                "train_indices, val_indices, test_indices = data.make_split_indices(mols, \"random\", (0.8, 0.1, 0.1))  # unpack the tuple into three separate lists\n",
                "train_data, val_data, test_data = data.split_data_by_indices(\n",
                "    all_data, train_indices, val_indices, test_indices\n",
                ")"
            ]
        },
        {
            "cell_type": "markdown",
            "metadata": {},
            "source": [
                "Chemprop's splitting function implements our preferred method of data splitting, which is random replication.\n",
                "It's also possible to add your own custom cross-validation splitter, such as one of those as implemented in scikit-learn, as long as you get the data into the same `tuple[list[list[int]], ...]` data format with something like this:"
            ]
        },
        {
            "cell_type": "code",
            "execution_count": 17,
            "metadata": {},
            "outputs": [],
            "source": [
                "from sklearn.model_selection import KFold\n",
                "\n",
                "k_splits = KFold(n_splits=5)\n",
                "k_train_indices, k_val_indices, k_test_indices = [], [], []\n",
                "for fold in k_splits.split(mols):\n",
                "    k_train_indices.append(fold[0])\n",
                "    k_val_indices.append([])\n",
                "    k_test_indices.append(fold[1])\n",
                "k_train_data, _, k_test_data = data.split_data_by_indices(\n",
                "    all_data, k_train_indices, None, k_test_indices\n",
                ")"
            ]
        },
        {
            "cell_type": "markdown",
            "metadata": {},
            "source": [
                "## Get MoleculeDataset\n",
                "Recall that the data is in a list equal in length to the number of replicates, so we select the zero index of the list to get the first replicate."
            ]
        },
        {
            "cell_type": "code",
            "execution_count": 18,
            "metadata": {},
            "outputs": [],
            "source": [
                "featurizer = featurizers.SimpleMoleculeMolGraphFeaturizer()\n",
                "\n",
                "train_dset = data.MoleculeDataset(train_data[0], featurizer)\n",
                "\n",
                "#! NO scaler - loss function takes the raw counts as input\n",
                "#scaler = train_dset.normalize_targets()\n",
                "\n",
                "val_dset = data.MoleculeDataset(val_data[0], featurizer)\n",
                "#val_dset.normalize_targets(scaler)\n",
                "\n",
                "test_dset = data.MoleculeDataset(test_data[0], featurizer)"
            ]
        },
        {
            "cell_type": "markdown",
            "metadata": {},
            "source": [
                "## Get DataLoader"
            ]
        },
        {
            "cell_type": "code",
            "execution_count": 19,
            "metadata": {},
            "outputs": [],
            "source": [
                "train_loader = data.build_dataloader(train_dset, num_workers=num_workers)\n",
                "val_loader = data.build_dataloader(val_dset, num_workers=num_workers, shuffle=False)\n",
                "test_loader = data.build_dataloader(test_dset, num_workers=num_workers, shuffle=False)"
            ]
        },
        {
            "cell_type": "markdown",
            "metadata": {},
            "source": [
                "# Change Message-Passing Neural Network (MPNN) inputs here"
            ]
        },
        {
            "cell_type": "markdown",
            "metadata": {},
            "source": [
                "## Message Passing\n",
                "A `Message passing` constructs molecular graphs using message passing to learn node-level hidden representations.\n",
                "\n",
                "Options are `mp = nn.BondMessagePassing()` or `mp = nn.AtomMessagePassing()`"
            ]
        },
        {
            "cell_type": "code",
            "execution_count": 20,
            "metadata": {},
            "outputs": [],
            "source": [
                "mp = nn.BondMessagePassing()"
            ]
        },
        {
            "cell_type": "markdown",
            "metadata": {},
            "source": [
                "## Aggregation\n",
                "An `Aggregation` is responsible for constructing a graph-level representation from the set of node-level representations after message passing.\n",
                "\n",
                "Available options can be found in ` nn.agg.AggregationRegistry`, including\n",
                "- `agg = nn.MeanAggregation()`\n",
                "- `agg = nn.SumAggregation()`\n",
                "- `agg = nn.NormAggregation()`"
            ]
        },
        {
            "cell_type": "code",
            "execution_count": 21,
            "metadata": {},
            "outputs": [],
            "source": [
                "agg = nn.MeanAggregation()\n"
            ]
        },
        {
            "cell_type": "markdown",
            "metadata": {},
            "source": [
                "## Feed-Forward Network (FFN)\n",
                "\n",
                "A `FFN` takes the aggregated representations and make target predictions.\n",
                "\n",
                "Available options can be found in `nn.PredictorRegistry`.\n",
                "\n",
                "For regression:\n",
                "- `ffn = nn.RegressionFFN()`\n",
                "- `ffn = nn.MveFFN()`\n",
                "- `ffn = nn.EvidentialFFN()`\n",
                "\n",
                "For classification:\n",
                "- `ffn = nn.BinaryClassificationFFN()`\n",
                "- `ffn = nn.BinaryDirichletFFN()`\n",
                "- `ffn = nn.MulticlassClassificationFFN()`\n",
                "- `ffn = nn.MulticlassDirichletFFN()`\n",
                "\n",
                "For spectral:\n",
                "- `ffn = nn.SpectralFFN()` # will be available in future version"
            ]
        },
        {
            "cell_type": "code",
            "execution_count": 22,
            "metadata": {},
            "outputs": [
                {
                    "name": "stdout",
                    "output_type": "stream",
                    "text": [
                        "ClassRegistry {\n",
                        "    'regression': <class 'chemprop.nn.predictors.RegressionFFN'>,\n",
                        "    'regression-mve': <class 'chemprop.nn.predictors.MveFFN'>,\n",
                        "    'regression-evidential': <class 'chemprop.nn.predictors.EvidentialFFN'>,\n",
                        "    'regression-quantile': <class 'chemprop.nn.predictors.QuantileFFN'>,\n",
                        "    'classification': <class 'chemprop.nn.predictors.BinaryClassificationFFN'>,\n",
                        "    'classification-dirichlet': <class 'chemprop.nn.predictors.BinaryDirichletFFN'>,\n",
                        "    'multiclass': <class 'chemprop.nn.predictors.MulticlassClassificationFFN'>,\n",
                        "    'multiclass-dirichlet': <class 'chemprop.nn.predictors.MulticlassDirichletFFN'>,\n",
                        "    'spectral': <class 'chemprop.nn.predictors.SpectralFFN'>\n",
                        "}\n"
                    ]
                }
            ],
            "source": [
                "print(nn.PredictorRegistry)"
            ]
        },
        {
            "cell_type": "code",
            "execution_count": 23,
            "metadata": {},
            "outputs": [],
            "source": [
                "output_transform = torch.nn.Softplus()"
            ]
        },
        {
            "cell_type": "code",
            "execution_count": 24,
            "metadata": {},
            "outputs": [],
            "source": [
                "ffn = nn.predictors.RegressionFFN(criterion=nn.metrics.NLogProbEnrichment(n1 = total_counts_pos,\n",
                "                                                                         n2 = total_counts_neg,\n",
                "                                                                         method=\"sqrt\", \n",
                "                                                                         zscale=1.0,\n",
                "                                                                         zinterval=5.0,\n",
                "                                                                         ),\n",
                "                                      output_transform=output_transform,\n",
                ")"
            ]
        },
        {
            "cell_type": "markdown",
            "metadata": {},
            "source": [
                "## Batch Norm\n",
                "A `Batch Norm` normalizes the outputs of the aggregation by re-centering and re-scaling.\n",
                "\n",
                "Whether to use batch norm"
            ]
        },
        {
            "cell_type": "code",
            "execution_count": 25,
            "metadata": {},
            "outputs": [],
            "source": [
                "batch_norm = True"
            ]
        },
        {
            "cell_type": "markdown",
            "metadata": {},
            "source": [
                "## Metrics\n",
                "`Metrics` are the ways to evaluate the performance of model predictions.\n",
                "\n",
                "Available options can be found in `metrics.MetricRegistry`, including"
            ]
        },
        {
            "cell_type": "code",
            "execution_count": 26,
            "metadata": {},
            "outputs": [
                {
                    "name": "stdout",
                    "output_type": "stream",
                    "text": [
                        "ClassRegistry {\n",
                        "    'mse': <class 'chemprop.nn.metrics.MSE'>,\n",
                        "    'mae': <class 'chemprop.nn.metrics.MAE'>,\n",
                        "    'rmse': <class 'chemprop.nn.metrics.RMSE'>,\n",
                        "    'bounded-mse': <class 'chemprop.nn.metrics.BoundedMSE'>,\n",
                        "    'bounded-mae': <class 'chemprop.nn.metrics.BoundedMAE'>,\n",
                        "    'bounded-rmse': <class 'chemprop.nn.metrics.BoundedRMSE'>,\n",
                        "    'r2': <class 'chemprop.nn.metrics.R2Score'>,\n",
                        "    'binary-mcc': <class 'chemprop.nn.metrics.BinaryMCCMetric'>,\n",
                        "    'multiclass-mcc': <class 'chemprop.nn.metrics.MulticlassMCCMetric'>,\n",
                        "    'roc': <class 'chemprop.nn.metrics.BinaryAUROC'>,\n",
                        "    'prc': <class 'chemprop.nn.metrics.BinaryAUPRC'>,\n",
                        "    'accuracy': <class 'chemprop.nn.metrics.BinaryAccuracy'>,\n",
                        "    'f1': <class 'chemprop.nn.metrics.BinaryF1Score'>\n",
                        "}\n"
                    ]
                }
            ],
            "source": [
                "print(nn.metrics.MetricRegistry)"
            ]
        },
        {
            "cell_type": "code",
            "execution_count": 27,
            "metadata": {},
            "outputs": [],
            "source": [
                "metric_list = [nn.metrics.NLogProbEnrichment(n1=total_counts_pos, n2=total_counts_neg)] # Only the first metric is used for training and early stopping"
            ]
        },
        {
            "cell_type": "markdown",
            "metadata": {},
            "source": [
                "## Constructs MPNN"
            ]
        },
        {
            "cell_type": "code",
            "execution_count": 28,
            "metadata": {},
            "outputs": [
                {
                    "data": {
                        "text/plain": [
                            "MPNN(\n",
                            "  (message_passing): BondMessagePassing(\n",
                            "    (W_i): Linear(in_features=86, out_features=300, bias=False)\n",
                            "    (W_h): Linear(in_features=300, out_features=300, bias=False)\n",
                            "    (W_o): Linear(in_features=372, out_features=300, bias=True)\n",
                            "    (dropout): Dropout(p=0.0, inplace=False)\n",
                            "    (tau): ReLU()\n",
                            "    (V_d_transform): Identity()\n",
                            "    (graph_transform): Identity()\n",
                            "  )\n",
                            "  (agg): MeanAggregation()\n",
                            "  (bn): BatchNorm1d(300, eps=1e-05, momentum=0.1, affine=True, track_running_stats=True)\n",
                            "  (predictor): RegressionFFN(\n",
                            "    (ffn): MLP(\n",
                            "      (0): Sequential(\n",
                            "        (0): Linear(in_features=300, out_features=300, bias=True)\n",
                            "      )\n",
                            "      (1): Sequential(\n",
                            "        (0): ReLU()\n",
                            "        (1): Dropout(p=0.0, inplace=False)\n",
                            "        (2): Linear(in_features=300, out_features=1, bias=True)\n",
                            "      )\n",
                            "    )\n",
                            "    (criterion): NLogProbEnrichment(n1=643, n2=367, method='sqrt', zscale=1.0, zinterval=5.0)\n",
                            "    (output_transform): Softplus(beta=1.0, threshold=20.0)\n",
                            "  )\n",
                            "  (X_d_transform): Identity()\n",
                            "  (metrics): ModuleList(\n",
                            "    (0): NLogProbEnrichment(n1=643, n2=367, method='sqrt', zscale=1.0, zinterval=5)\n",
                            "    (1): NLogProbEnrichment(n1=643, n2=367, method='sqrt', zscale=1.0, zinterval=5.0)\n",
                            "  )\n",
                            ")"
                        ]
                    },
                    "execution_count": 28,
                    "metadata": {},
                    "output_type": "execute_result"
                }
            ],
            "source": [
                "mpnn = models.MPNN(mp, agg, ffn, batch_norm, metric_list)\n",
                "mpnn"
            ]
        },
        {
            "cell_type": "markdown",
            "metadata": {},
            "source": [
                "# Set up trainer"
            ]
        },
        {
            "cell_type": "code",
            "execution_count": 29,
            "metadata": {},
            "outputs": [
                {
                    "name": "stderr",
                    "output_type": "stream",
                    "text": [
                        "/compchem/arc/apps/anaconda/anaconda-2020.11_dkcn-plws-arc02/envs/chemprop_dev/lib/python3.13/site-packages/lightning/fabric/plugins/environments/slurm.py:204: The `srun` command is available on your system but is not used. HINT: If your intention is to run Lightning on SLURM, prepend your python command with `srun` like so: srun python /compchem/arc/apps/anaconda/anaconda-2020.11_dkcn-pl ...\n",
                        "GPU available: True (cuda), used: True\n",
                        "TPU available: False, using: 0 TPU cores\n",
                        "HPU available: False, using: 0 HPUs\n"
                    ]
                }
            ],
            "source": [
                "# Configure model checkpointing\n",
                "checkpointing = ModelCheckpoint(\n",
                "    \"checkpoints\",  # Directory where model checkpoints will be saved\n",
                "    \"best-{epoch}-{val_loss:.2f}\",  # Filename format for checkpoints, including epoch and validation loss\n",
                "    \"val_loss\",  # Metric used to select the best checkpoint (based on validation loss)\n",
                "    mode=\"min\",  # Save the checkpoint with the lowest validation loss (minimization objective)\n",
                "    save_last=True,  # Always save the most recent checkpoint, even if it's not the best\n",
                ")\n",
                "\n",
                "\n",
                "trainer = pl.Trainer(\n",
                "    logger=False,\n",
                "    enable_checkpointing=True, # Use `True` if you want to save model checkpoints. The checkpoints will be saved in the `checkpoints` folder.\n",
                "    enable_progress_bar=True,\n",
                "    #gradient_clip_val=1.0,\n",
                "    accelerator=\"auto\",\n",
                "    devices=1,\n",
                "    max_epochs=20, # number of epochs to train for\n",
                "    callbacks=[checkpointing], # Use the configured checkpoint callback\n",
                ")"
            ]
        },
        {
            "cell_type": "markdown",
            "metadata": {},
            "source": [
                "# Start training"
            ]
        },
        {
            "cell_type": "code",
            "execution_count": 30,
            "metadata": {},
            "outputs": [
                {
                    "name": "stderr",
                    "output_type": "stream",
                    "text": [
                        "/compchem/arc/apps/anaconda/anaconda-2020.11_dkcn-plws-arc02/envs/chemprop_dev/lib/python3.13/site-packages/lightning/pytorch/callbacks/model_checkpoint.py:658: Checkpoint directory /compchem/arc/users/dvik/repos/chemprop/examples/checkpoints exists and is not empty.\n",
                        "LOCAL_RANK: 0 - CUDA_VISIBLE_DEVICES: [0,1]\n",
                        "Loading `train_dataloader` to estimate number of stepping batches.\n",
                        "/compchem/arc/apps/anaconda/anaconda-2020.11_dkcn-plws-arc02/envs/chemprop_dev/lib/python3.13/site-packages/lightning/pytorch/trainer/connectors/data_connector.py:425: The 'train_dataloader' does not have many workers which may be a bottleneck. Consider increasing the value of the `num_workers` argument` to `num_workers=15` in the `DataLoader` to improve performance.\n",
                        "\n",
                        "  | Name            | Type               | Params | Mode \n",
                        "---------------------------------------------------------------\n",
                        "0 | message_passing | BondMessagePassing | 227 K  | train\n",
                        "1 | agg             | MeanAggregation    | 0      | train\n",
                        "2 | bn              | BatchNorm1d        | 600    | train\n",
                        "3 | predictor       | RegressionFFN      | 90.6 K | train\n",
                        "4 | X_d_transform   | Identity           | 0      | train\n",
                        "5 | metrics         | ModuleList         | 0      | train\n",
                        "---------------------------------------------------------------\n",
                        "318 K     Trainable params\n",
                        "0         Non-trainable params\n",
                        "318 K     Total params\n",
                        "1.276     Total estimated model params size (MB)\n",
                        "24        Modules in train mode\n",
                        "0         Modules in eval mode\n"
                    ]
                },
                {
                    "name": "stdout",
                    "output_type": "stream",
                    "text": [
                        "Sanity Checking DataLoader 0:   0%|          | 0/1 [00:00<?, ?it/s]"
                    ]
                },
                {
                    "name": "stderr",
                    "output_type": "stream",
                    "text": [
                        "/compchem/arc/apps/anaconda/anaconda-2020.11_dkcn-plws-arc02/envs/chemprop_dev/lib/python3.13/site-packages/lightning/pytorch/trainer/connectors/data_connector.py:425: The 'val_dataloader' does not have many workers which may be a bottleneck. Consider increasing the value of the `num_workers` argument` to `num_workers=15` in the `DataLoader` to improve performance.\n"
                    ]
                },
                {
                    "name": "stdout",
                    "output_type": "stream",
                    "text": [
                        "Epoch 19: 100%|██████████| 2/2 [00:00<00:00, 14.79it/s, train_loss_step=0.462, val_loss=1.120, train_loss_epoch=0.409]"
                    ]
                },
                {
                    "name": "stderr",
                    "output_type": "stream",
                    "text": [
                        "`Trainer.fit` stopped: `max_epochs=20` reached.\n"
                    ]
                },
                {
                    "name": "stdout",
                    "output_type": "stream",
                    "text": [
                        "Epoch 19: 100%|██████████| 2/2 [00:00<00:00, 10.38it/s, train_loss_step=0.462, val_loss=1.120, train_loss_epoch=0.409]\n"
                    ]
                }
            ],
            "source": [
                "trainer.fit(mpnn, train_loader, val_loader)"
            ]
        },
        {
            "cell_type": "markdown",
            "metadata": {},
            "source": [
                "# Test results"
            ]
        },
        {
            "cell_type": "code",
            "execution_count": 31,
            "metadata": {},
            "outputs": [
                {
                    "name": "stderr",
                    "output_type": "stream",
                    "text": [
                        "/compchem/arc/apps/anaconda/anaconda-2020.11_dkcn-plws-arc02/envs/chemprop_dev/lib/python3.13/site-packages/lightning/pytorch/trainer/connectors/checkpoint_connector.py:149: `.test(ckpt_path=None)` was called without a model. The best model of the previous `fit` call will be used. You can pass `.test(ckpt_path='best')` to use the best model or `.test(ckpt_path='last')` to use the last model. If you pass a value, this warning will be silenced.\n",
                        "Restoring states from the checkpoint path at /compchem/arc/users/dvik/repos/chemprop/examples/checkpoints/best-epoch=6-val_loss=1.05.ckpt\n",
                        "LOCAL_RANK: 0 - CUDA_VISIBLE_DEVICES: [0,1]\n",
                        "Loaded model weights from the checkpoint at /compchem/arc/users/dvik/repos/chemprop/examples/checkpoints/best-epoch=6-val_loss=1.05.ckpt\n",
                        "/compchem/arc/apps/anaconda/anaconda-2020.11_dkcn-plws-arc02/envs/chemprop_dev/lib/python3.13/site-packages/lightning/pytorch/trainer/connectors/data_connector.py:425: The 'test_dataloader' does not have many workers which may be a bottleneck. Consider increasing the value of the `num_workers` argument` to `num_workers=15` in the `DataLoader` to improve performance.\n"
                    ]
                },
                {
                    "name": "stdout",
                    "output_type": "stream",
                    "text": [
                        "Testing DataLoader 0: 100%|██████████| 1/1 [00:00<00:00, 115.15it/s]\n"
                    ]
                },
                {
                    "data": {
                        "text/html": [
                            "<pre style=\"white-space:pre;overflow-x:auto;line-height:normal;font-family:Menlo,'DejaVu Sans Mono',consolas,'Courier New',monospace\">┏━━━━━━━━━━━━━━━━━━━━━━━━━━━┳━━━━━━━━━━━━━━━━━━━━━━━━━━━┓\n",
                            "┃<span style=\"font-weight: bold\">        Test metric        </span>┃<span style=\"font-weight: bold\">       DataLoader 0        </span>┃\n",
                            "┡━━━━━━━━━━━━━━━━━━━━━━━━━━━╇━━━━━━━━━━━━━━━━━━━━━━━━━━━┩\n",
                            "│<span style=\"color: #008080; text-decoration-color: #008080\"> test/nlogprob_enrichment  </span>│<span style=\"color: #800080; text-decoration-color: #800080\">    1.5565450191497803     </span>│\n",
                            "└───────────────────────────┴───────────────────────────┘\n",
                            "</pre>\n"
                        ],
                        "text/plain": [
                            "┏━━━━━━━━━━━━━━━━━━━━━━━━━━━┳━━━━━━━━━━━━━━━━━━━━━━━━━━━┓\n",
                            "┃\u001b[1m \u001b[0m\u001b[1m       Test metric       \u001b[0m\u001b[1m \u001b[0m┃\u001b[1m \u001b[0m\u001b[1m      DataLoader 0       \u001b[0m\u001b[1m \u001b[0m┃\n",
                            "┡━━━━━━━━━━━━━━━━━━━━━━━━━━━╇━━━━━━━━━━━━━━━━━━━━━━━━━━━┩\n",
                            "│\u001b[36m \u001b[0m\u001b[36mtest/nlogprob_enrichment \u001b[0m\u001b[36m \u001b[0m│\u001b[35m \u001b[0m\u001b[35m   1.5565450191497803    \u001b[0m\u001b[35m \u001b[0m│\n",
                            "└───────────────────────────┴───────────────────────────┘\n"
                        ]
                    },
                    "metadata": {},
                    "output_type": "display_data"
                }
            ],
            "source": [
                "results = trainer.test(dataloaders=test_loader)"
            ]
        }
    ],
    "metadata": {
        "kernelspec": {
            "display_name": "chemprop_dev",
            "language": "python",
            "name": "python3"
        },
        "language_info": {
            "codemirror_mode": {
                "name": "ipython",
                "version": 3
            },
            "file_extension": ".py",
            "mimetype": "text/x-python",
            "name": "python",
            "nbconvert_exporter": "python",
            "pygments_lexer": "ipython3",
            "version": "3.13.5"
        },
        "orig_nbformat": 4
    },
    "nbformat": 4,
    "nbformat_minor": 2
}
